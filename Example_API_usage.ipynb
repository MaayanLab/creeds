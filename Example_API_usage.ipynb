{
 "cells": [
  {
   "cell_type": "markdown",
   "metadata": {},
   "source": [
    "# Example CREEDS API Usages Walk-Through\n",
    "### _Zichen Wang_\n"
   ]
  },
  {
   "cell_type": "code",
   "execution_count": 1,
   "metadata": {
    "collapsed": true
   },
   "outputs": [],
   "source": [
    "## required python packages\n",
    "import json\n",
    "import numpy as np\n",
    "import pandas as pd\n",
    "import requests\n",
    "import matplotlib.pyplot as plt\n",
    "%matplotlib inline\n",
    "import warnings \n",
    "warnings.filterwarnings(\"ignore\")"
   ]
  },
  {
   "cell_type": "code",
   "execution_count": 2,
   "metadata": {
    "collapsed": true
   },
   "outputs": [],
   "source": [
    "BASE_URL = 'http://amp.pharm.mssm.edu/CREEDS/'"
   ]
  },
  {
   "cell_type": "markdown",
   "metadata": {},
   "source": [
    "## 1. Search signatures using text\n",
    "\n",
    "The `/search` endpoint handles the search of the meta-data associated with gene expression signatures. You can use a query term of interest such as 'breast cancer' to perform search using HTTP GET request.\n",
    "\n",
    "The `requests.get()` function perform HTTP GET request and return a response object. JSON data associated with the response object can be parsed using the `.json()` method."
   ]
  },
  {
   "cell_type": "code",
   "execution_count": 3,
   "metadata": {
    "collapsed": false
   },
   "outputs": [
    {
     "name": "stdout",
     "output_type": "stream",
     "text": [
      "200\n"
     ]
    }
   ],
   "source": [
    "r = requests.get(BASE_URL + 'search', params={'q':'breast cancer'})\n",
    "response = r.json()\n",
    "print r.status_code"
   ]
  },
  {
   "cell_type": "markdown",
   "metadata": {},
   "source": [
    "We next convert the json response to a `pandas.DataFrame` and have a look at the search result "
   ]
  },
  {
   "cell_type": "code",
   "execution_count": 4,
   "metadata": {
    "collapsed": false
   },
   "outputs": [
    {
     "data": {
      "text/html": [
       "<div style=\"max-height:1000px;max-width:1500px;overflow:auto;\">\n",
       "<table border=\"1\" class=\"dataframe\">\n",
       "  <thead>\n",
       "    <tr style=\"text-align: right;\">\n",
       "      <th></th>\n",
       "      <th>cell_type</th>\n",
       "      <th>ctrl_ids</th>\n",
       "      <th>curator</th>\n",
       "      <th>disease_name</th>\n",
       "      <th>do_id</th>\n",
       "      <th>geo_id</th>\n",
       "      <th>organism</th>\n",
       "      <th>pert_ids</th>\n",
       "      <th>platform</th>\n",
       "      <th>umls_cui</th>\n",
       "    </tr>\n",
       "    <tr>\n",
       "      <th>id</th>\n",
       "      <th></th>\n",
       "      <th></th>\n",
       "      <th></th>\n",
       "      <th></th>\n",
       "      <th></th>\n",
       "      <th></th>\n",
       "      <th></th>\n",
       "      <th></th>\n",
       "      <th></th>\n",
       "      <th></th>\n",
       "    </tr>\n",
       "  </thead>\n",
       "  <tbody>\n",
       "    <tr>\n",
       "      <th>dz:11</th>\n",
       "      <td>Mammary Epithelium</td>\n",
       "      <td>[GSM1932, GSM1933, GSM1935, GSM1949, GSM1950, ...</td>\n",
       "      <td>Joel.Dudley</td>\n",
       "      <td>breast cancer</td>\n",
       "      <td>DOID:1612</td>\n",
       "      <td>GSE53</td>\n",
       "      <td>human</td>\n",
       "      <td>[GSM1928, GSM1929, GSM1930, GSM1931, GSM1934, ...</td>\n",
       "      <td>GPL170</td>\n",
       "      <td>C0006142</td>\n",
       "    </tr>\n",
       "    <tr>\n",
       "      <th>dz:24</th>\n",
       "      <td>Mammary Gland Tissue</td>\n",
       "      <td>[GSM85513, GSM85514, GSM85515, GSM85516, GSM85...</td>\n",
       "      <td>Joel.Dudley</td>\n",
       "      <td>breast cancer</td>\n",
       "      <td>DOID:1612</td>\n",
       "      <td>GSE3744</td>\n",
       "      <td>human</td>\n",
       "      <td>[GSM85473, GSM85474, GSM85475, GSM85476, GSM85...</td>\n",
       "      <td>GPL570</td>\n",
       "      <td>C0006142</td>\n",
       "    </tr>\n",
       "    <tr>\n",
       "      <th>dz:28</th>\n",
       "      <td>Mammary gland</td>\n",
       "      <td>[GSM48242, GSM48244, GSM48245]</td>\n",
       "      <td>Joel.Dudley</td>\n",
       "      <td>breast cancer</td>\n",
       "      <td>DOID:1612</td>\n",
       "      <td>GSE2528</td>\n",
       "      <td>mouse</td>\n",
       "      <td>[GSM48236, GSM48237, GSM48238, GSM48239, GSM48...</td>\n",
       "      <td>GPL81</td>\n",
       "      <td>C0006142</td>\n",
       "    </tr>\n",
       "    <tr>\n",
       "      <th>dz:39</th>\n",
       "      <td>Epithelial Cell</td>\n",
       "      <td>[GSM38895, GSM38896]</td>\n",
       "      <td>Joel.Dudley</td>\n",
       "      <td>breast cancer</td>\n",
       "      <td>DOID:1612</td>\n",
       "      <td>GSE2155</td>\n",
       "      <td>human</td>\n",
       "      <td>[GSM38897, GSM38898, GSM38899, GSM38900, GSM38...</td>\n",
       "      <td>GPL1794</td>\n",
       "      <td>C0006142</td>\n",
       "    </tr>\n",
       "    <tr>\n",
       "      <th>dz:52</th>\n",
       "      <td>Mammary Gland Tissue</td>\n",
       "      <td>[GSM22369, GSM22374, GSM22381, GSM22382, GSM22...</td>\n",
       "      <td>Joel.Dudley</td>\n",
       "      <td>breast cancer</td>\n",
       "      <td>DOID:1612</td>\n",
       "      <td>GSE1378</td>\n",
       "      <td>human</td>\n",
       "      <td>[GSM22365, GSM22366, GSM22367, GSM22368, GSM22...</td>\n",
       "      <td>GPL1223</td>\n",
       "      <td>C0006142</td>\n",
       "    </tr>\n",
       "  </tbody>\n",
       "</table>\n",
       "</div>"
      ],
      "text/plain": [
       "                  cell_type  \\\n",
       "id                            \n",
       "dz:11    Mammary Epithelium   \n",
       "dz:24  Mammary Gland Tissue   \n",
       "dz:28         Mammary gland   \n",
       "dz:39       Epithelial Cell   \n",
       "dz:52  Mammary Gland Tissue   \n",
       "\n",
       "                                                ctrl_ids      curator  \\\n",
       "id                                                                      \n",
       "dz:11  [GSM1932, GSM1933, GSM1935, GSM1949, GSM1950, ...  Joel.Dudley   \n",
       "dz:24  [GSM85513, GSM85514, GSM85515, GSM85516, GSM85...  Joel.Dudley   \n",
       "dz:28                     [GSM48242, GSM48244, GSM48245]  Joel.Dudley   \n",
       "dz:39                               [GSM38895, GSM38896]  Joel.Dudley   \n",
       "dz:52  [GSM22369, GSM22374, GSM22381, GSM22382, GSM22...  Joel.Dudley   \n",
       "\n",
       "        disease_name      do_id   geo_id organism  \\\n",
       "id                                                  \n",
       "dz:11  breast cancer  DOID:1612    GSE53    human   \n",
       "dz:24  breast cancer  DOID:1612  GSE3744    human   \n",
       "dz:28  breast cancer  DOID:1612  GSE2528    mouse   \n",
       "dz:39  breast cancer  DOID:1612  GSE2155    human   \n",
       "dz:52  breast cancer  DOID:1612  GSE1378    human   \n",
       "\n",
       "                                                pert_ids platform  umls_cui  \n",
       "id                                                                           \n",
       "dz:11  [GSM1928, GSM1929, GSM1930, GSM1931, GSM1934, ...   GPL170  C0006142  \n",
       "dz:24  [GSM85473, GSM85474, GSM85475, GSM85476, GSM85...   GPL570  C0006142  \n",
       "dz:28  [GSM48236, GSM48237, GSM48238, GSM48239, GSM48...    GPL81  C0006142  \n",
       "dz:39  [GSM38897, GSM38898, GSM38899, GSM38900, GSM38...  GPL1794  C0006142  \n",
       "dz:52  [GSM22365, GSM22366, GSM22367, GSM22368, GSM22...  GPL1223  C0006142  "
      ]
     },
     "execution_count": 4,
     "metadata": {},
     "output_type": "execute_result"
    }
   ],
   "source": [
    "response_df = pd.DataFrame.from_records(response).set_index('id')\n",
    "response_df.head()"
   ]
  },
  {
   "cell_type": "markdown",
   "metadata": {},
   "source": [
    "## 2. Query the signature database using up/down gene sets to find similar/opposite signatures\n",
    "Signatures can also be queried against using a pair of up/down gene lists from the `/search` endpoint using HTTP POST request. Here we generate vectors of up and down genes to query against the CREEDS database:"
   ]
  },
  {
   "cell_type": "code",
   "execution_count": 5,
   "metadata": {
    "collapsed": true
   },
   "outputs": [],
   "source": [
    "## Get some up and down gene lists \n",
    "up_genes = ['KIAA0907','KDM5A','CDC25A','EGR1','GADD45B','RELB','TERF2IP','SMNDC1','TICAM1','NFKB2','RGS2','NCOA3','ICAM1','TEX10','CNOT4','ARID4B','CLPX','CHIC2','CXCL2','FBXO11','MTF2','CDK2','DNTTIP2','GADD45A','GOLT1B','POLR2K','NFKBIE','GABPB1','ECD','PHKG2','RAD9A','NET1','KIAA0753','EZH2','NRAS','ATP6V0B','CDK7','CCNH','SENP6','TIPARP','FOS','ARPP19','TFAP2A','KDM5B','NPC1','TP53BP2','NUSAP1']\n",
    "dn_genes = ['SCCPDH','KIF20A','FZD7','USP22','PIP4K2B','CRYZ','GNB5','EIF4EBP1','PHGDH','RRAGA','SLC25A46','RPA1','HADH','DAG1','RPIA','P4HA2','MACF1','TMEM97','MPZL1','PSMG1','PLK1','SLC37A4','GLRX','CBR3','PRSS23','NUDCD3','CDC20','KIAA0528','NIPSNAP1','TRAM2','STUB1','DERA','MTHFD2','BLVRA','IARS2','LIPA','PGM1','CNDP2','BNIP3','CTSL1','CDC25B','HSPA8','EPRS','PAX8','SACM1L','HOXA5','TLE1','PYGL','TUBB6','LOXL1']\n",
    "payload = {\n",
    "    'up_genes': up_genes,\n",
    "    'dn_genes': dn_genes,\n",
    "    'direction': 'similar'\n",
    "    }"
   ]
  },
  {
   "cell_type": "markdown",
   "metadata": {},
   "source": [
    "POST the input gene sets to the API and load the response to `pandas.DataFrame`"
   ]
  },
  {
   "cell_type": "code",
   "execution_count": 6,
   "metadata": {
    "collapsed": false
   },
   "outputs": [
    {
     "name": "stdout",
     "output_type": "stream",
     "text": [
      "200\n"
     ]
    }
   ],
   "source": [
    "r = requests.post(BASE_URL + 'search', json=payload)\n",
    "print r.status_code\n",
    "response = r.json()"
   ]
  },
  {
   "cell_type": "code",
   "execution_count": 7,
   "metadata": {
    "collapsed": false
   },
   "outputs": [
    {
     "data": {
      "text/html": [
       "<div style=\"max-height:1000px;max-width:1500px;overflow:auto;\">\n",
       "<table border=\"1\" class=\"dataframe\">\n",
       "  <thead>\n",
       "    <tr style=\"text-align: right;\">\n",
       "      <th></th>\n",
       "      <th>geo_id</th>\n",
       "      <th>name</th>\n",
       "      <th>signed_jaccard</th>\n",
       "    </tr>\n",
       "    <tr>\n",
       "      <th>id</th>\n",
       "      <th></th>\n",
       "      <th></th>\n",
       "      <th></th>\n",
       "    </tr>\n",
       "  </thead>\n",
       "  <tbody>\n",
       "    <tr>\n",
       "      <th>gene:2008</th>\n",
       "      <td>GSE8747</td>\n",
       "      <td>[Met, http://www.ncbi.nlm.nih.gov/gene/17295]</td>\n",
       "      <td>0.00289</td>\n",
       "    </tr>\n",
       "    <tr>\n",
       "      <th>gene:84</th>\n",
       "      <td>GSE10516</td>\n",
       "      <td>[Lmx1b, http://www.ncbi.nlm.nih.gov/gene/16917]</td>\n",
       "      <td>0.00251</td>\n",
       "    </tr>\n",
       "    <tr>\n",
       "      <th>gene:2314</th>\n",
       "      <td>GSE53388</td>\n",
       "      <td>[Arhgap5, http://www.ncbi.nlm.nih.gov/gene/11855]</td>\n",
       "      <td>0.00207</td>\n",
       "    </tr>\n",
       "    <tr>\n",
       "      <th>gene:2916</th>\n",
       "      <td>GSE40377</td>\n",
       "      <td>[Pde10a, http://www.ncbi.nlm.nih.gov/gene/23984]</td>\n",
       "      <td>0.00178</td>\n",
       "    </tr>\n",
       "    <tr>\n",
       "      <th>gene:601</th>\n",
       "      <td>GSE13590</td>\n",
       "      <td>[MIR140, http://www.ncbi.nlm.nih.gov/gene/406932]</td>\n",
       "      <td>0.00162</td>\n",
       "    </tr>\n",
       "  </tbody>\n",
       "</table>\n",
       "</div>"
      ],
      "text/plain": [
       "             geo_id                                               name  \\\n",
       "id                                                                       \n",
       "gene:2008   GSE8747      [Met, http://www.ncbi.nlm.nih.gov/gene/17295]   \n",
       "gene:84    GSE10516    [Lmx1b, http://www.ncbi.nlm.nih.gov/gene/16917]   \n",
       "gene:2314  GSE53388  [Arhgap5, http://www.ncbi.nlm.nih.gov/gene/11855]   \n",
       "gene:2916  GSE40377   [Pde10a, http://www.ncbi.nlm.nih.gov/gene/23984]   \n",
       "gene:601   GSE13590  [MIR140, http://www.ncbi.nlm.nih.gov/gene/406932]   \n",
       "\n",
       "           signed_jaccard  \n",
       "id                         \n",
       "gene:2008         0.00289  \n",
       "gene:84           0.00251  \n",
       "gene:2314         0.00207  \n",
       "gene:2916         0.00178  \n",
       "gene:601          0.00162  "
      ]
     },
     "execution_count": 7,
     "metadata": {},
     "output_type": "execute_result"
    }
   ],
   "source": [
    "response_df = pd.DataFrame.from_records(response).set_index('id')\n",
    "response_df.head()"
   ]
  },
  {
   "cell_type": "markdown",
   "metadata": {},
   "source": [
    "## 3. Retrieve a signature using `id`"
   ]
  },
  {
   "cell_type": "code",
   "execution_count": 8,
   "metadata": {
    "collapsed": false
   },
   "outputs": [],
   "source": [
    "r = requests.get(BASE_URL + 'api', params={'id': response_df.index[0]})\n",
    "sig = r.json()"
   ]
  },
  {
   "cell_type": "markdown",
   "metadata": {},
   "source": [
    "`sig` is a python `dictionary` with the following keys"
   ]
  },
  {
   "cell_type": "code",
   "execution_count": 9,
   "metadata": {
    "collapsed": false
   },
   "outputs": [
    {
     "name": "stdout",
     "output_type": "stream",
     "text": [
      "[u'cell_type', u'pert_ids', u'hs_gene_symbol', u'curator', u'id', u'geo_id', u'platform', u'ctrl_ids', u'up_genes', u'mm_gene_symbol', u'organism', u'down_genes', u'pert_type']\n"
     ]
    }
   ],
   "source": [
    "print sig.keys()"
   ]
  },
  {
   "cell_type": "markdown",
   "metadata": {},
   "source": [
    "## 4. Retrieve a gene expression dataset from GEO and perform some analyses\n",
    "### 4.0. Prepare data\n",
    "Look at the meta-data required to retrieve dataset from GEO"
   ]
  },
  {
   "cell_type": "code",
   "execution_count": 10,
   "metadata": {
    "collapsed": false
   },
   "outputs": [
    {
     "name": "stdout",
     "output_type": "stream",
     "text": [
      "GEO id: GSE8747\n",
      "Control GSMs: [u'GSM217200', u'GSM217202', u'GSM217204', u'GSM217206', u'GSM217208']\n",
      "Perturbation GSMs: [u'GSM217210', u'GSM217214', u'GSM217215', u'GSM217217']\n",
      "GEO platform id: GPL4200\n"
     ]
    }
   ],
   "source": [
    "print 'GEO id: %s' % sig['geo_id']\n",
    "print 'Control GSMs: %s' % sig['ctrl_ids']\n",
    "print 'Perturbation GSMs: %s' % sig['pert_ids']\n",
    "print 'GEO platform id: %s' % sig['platform']"
   ]
  },
  {
   "cell_type": "markdown",
   "metadata": {
    "collapsed": false
   },
   "source": [
    "In order to retrieve gene expression data from GEO, we need to use some custom utility functions than can be found at: https://github.com/MaayanLab/creeds/tree/master/externals. \n",
    "\n",
    "To identify Differentially Expressed Genes (DEGs), we use the [Charateristic Direction (CD)](http://bmcbioinformatics.biomedcentral.com/articles/10.1186/1471-2105-15-79) algorithm implemented in the [`geode` package](https://github.com/wangz10/geode)"
   ]
  },
  {
   "cell_type": "code",
   "execution_count": 11,
   "metadata": {
    "collapsed": false
   },
   "outputs": [],
   "source": [
    "from externals import (geodownloader, softparser, RNAseq)\n",
    "import geode"
   ]
  },
  {
   "cell_type": "code",
   "execution_count": 12,
   "metadata": {
    "collapsed": false
   },
   "outputs": [],
   "source": [
    "gse_file = geodownloader.download(sig['geo_id'])\n",
    "annot_file = geodownloader.download(sig['platform'])"
   ]
  },
  {
   "cell_type": "code",
   "execution_count": 13,
   "metadata": {
    "collapsed": false
   },
   "outputs": [
    {
     "name": "stdout",
     "output_type": "stream",
     "text": [
      "(36607, 9)\n"
     ]
    },
    {
     "data": {
      "text/html": [
       "<div style=\"max-height:1000px;max-width:1500px;overflow:auto;\">\n",
       "<table border=\"1\" class=\"dataframe\">\n",
       "  <thead>\n",
       "    <tr style=\"text-align: right;\">\n",
       "      <th></th>\n",
       "      <th>GSM217200</th>\n",
       "      <th>GSM217202</th>\n",
       "      <th>GSM217204</th>\n",
       "      <th>GSM217206</th>\n",
       "      <th>GSM217208</th>\n",
       "      <th>GSM217210</th>\n",
       "      <th>GSM217214</th>\n",
       "      <th>GSM217215</th>\n",
       "      <th>GSM217217</th>\n",
       "    </tr>\n",
       "    <tr>\n",
       "      <th>ID_REF</th>\n",
       "      <th></th>\n",
       "      <th></th>\n",
       "      <th></th>\n",
       "      <th></th>\n",
       "      <th></th>\n",
       "      <th></th>\n",
       "      <th></th>\n",
       "      <th></th>\n",
       "      <th></th>\n",
       "    </tr>\n",
       "  </thead>\n",
       "  <tbody>\n",
       "    <tr>\n",
       "      <th>1762437_1</th>\n",
       "      <td>0.789</td>\n",
       "      <td>0.353</td>\n",
       "      <td>0.562</td>\n",
       "      <td>-0.539</td>\n",
       "      <td>0.376</td>\n",
       "      <td>0.555</td>\n",
       "      <td>1.032</td>\n",
       "      <td>0.712</td>\n",
       "      <td>0.929</td>\n",
       "    </tr>\n",
       "    <tr>\n",
       "      <th>1762438_1</th>\n",
       "      <td>0.694</td>\n",
       "      <td>0.445</td>\n",
       "      <td>0.681</td>\n",
       "      <td>-0.648</td>\n",
       "      <td>0.296</td>\n",
       "      <td>0.373</td>\n",
       "      <td>0.775</td>\n",
       "      <td>0.783</td>\n",
       "      <td>0.750</td>\n",
       "    </tr>\n",
       "    <tr>\n",
       "      <th>1762439_1</th>\n",
       "      <td>0.741</td>\n",
       "      <td>0.240</td>\n",
       "      <td>0.569</td>\n",
       "      <td>-0.704</td>\n",
       "      <td>0.281</td>\n",
       "      <td>0.489</td>\n",
       "      <td>0.970</td>\n",
       "      <td>0.953</td>\n",
       "      <td>0.458</td>\n",
       "    </tr>\n",
       "    <tr>\n",
       "      <th>1762440_1</th>\n",
       "      <td>0.728</td>\n",
       "      <td>0.322</td>\n",
       "      <td>0.633</td>\n",
       "      <td>-0.623</td>\n",
       "      <td>0.170</td>\n",
       "      <td>0.392</td>\n",
       "      <td>0.706</td>\n",
       "      <td>0.530</td>\n",
       "      <td>0.543</td>\n",
       "    </tr>\n",
       "    <tr>\n",
       "      <th>1762441_1</th>\n",
       "      <td>0.613</td>\n",
       "      <td>0.380</td>\n",
       "      <td>0.703</td>\n",
       "      <td>-0.730</td>\n",
       "      <td>0.334</td>\n",
       "      <td>0.494</td>\n",
       "      <td>0.801</td>\n",
       "      <td>0.648</td>\n",
       "      <td>0.583</td>\n",
       "    </tr>\n",
       "  </tbody>\n",
       "</table>\n",
       "</div>"
      ],
      "text/plain": [
       "           GSM217200  GSM217202  GSM217204  GSM217206  GSM217208  GSM217210  \\\n",
       "ID_REF                                                                        \n",
       "1762437_1      0.789      0.353      0.562     -0.539      0.376      0.555   \n",
       "1762438_1      0.694      0.445      0.681     -0.648      0.296      0.373   \n",
       "1762439_1      0.741      0.240      0.569     -0.704      0.281      0.489   \n",
       "1762440_1      0.728      0.322      0.633     -0.623      0.170      0.392   \n",
       "1762441_1      0.613      0.380      0.703     -0.730      0.334      0.494   \n",
       "\n",
       "           GSM217214  GSM217215  GSM217217  \n",
       "ID_REF                                      \n",
       "1762437_1      1.032      0.712      0.929  \n",
       "1762438_1      0.775      0.783      0.750  \n",
       "1762439_1      0.970      0.953      0.458  \n",
       "1762440_1      0.706      0.530      0.543  \n",
       "1762441_1      0.801      0.648      0.583  "
      ]
     },
     "execution_count": 13,
     "metadata": {},
     "output_type": "execute_result"
    }
   ],
   "source": [
    "expr_df = softparser.parse(gse_file.path(), sig['ctrl_ids'], sig['pert_ids'])\n",
    "print expr_df.shape\n",
    "expr_df.head()"
   ]
  },
  {
   "cell_type": "markdown",
   "metadata": {
    "collapsed": false
   },
   "source": [
    "### 4.1. Explanatory analyses\n",
    "Visualize the gene expression values across samples using density plot"
   ]
  },
  {
   "cell_type": "code",
   "execution_count": 14,
   "metadata": {
    "collapsed": false
   },
   "outputs": [
    {
     "data": {
      "text/plain": [
       "<matplotlib.text.Text at 0x111623590>"
      ]
     },
     "execution_count": 14,
     "metadata": {},
     "output_type": "execute_result"
    },
    {
     "data": {
      "image/png": "[encoded data removed]",
      "text/plain": [
       "<matplotlib.figure.Figure at 0x10e30de50>"
      ]
     },
     "metadata": {},
     "output_type": "display_data"
    }
   ],
   "source": [
    "ax = expr_df.plot(kind='kde')\n",
    "ax.set_xlabel('Gene expression')"
   ]
  },
  {
   "cell_type": "markdown",
   "metadata": {},
   "source": [
    "Visualize using PCA plot"
   ]
  },
  {
   "cell_type": "code",
   "execution_count": 15,
   "metadata": {
    "collapsed": false
   },
   "outputs": [
    {
     "data": {
      "image/png": "[encoded data removed]",
      "text/plain": [
       "<matplotlib.figure.Figure at 0x10c1d3ed0>"
      ]
     },
     "metadata": {},
     "output_type": "display_data"
    }
   ],
   "source": [
    "sample_classes = ['CTRL'] * len(sig['ctrl_ids']) + ['PERT'] * len(sig['pert_ids'])\n",
    "RNAseq.PCA_plot(expr_df.values, sample_classes, log=True, standardize=2)"
   ]
  },
  {
   "cell_type": "markdown",
   "metadata": {},
   "source": [
    "## 4.2. Perform differential expression analysis\n",
    "### 4.2.1. Applying the Characteristic Direcion (CD) algorithm"
   ]
  },
  {
   "cell_type": "code",
   "execution_count": 16,
   "metadata": {
    "collapsed": false
   },
   "outputs": [
    {
     "data": {
      "text/html": [
       "<div style=\"max-height:1000px;max-width:1500px;overflow:auto;\">\n",
       "<table border=\"1\" class=\"dataframe\">\n",
       "  <thead>\n",
       "    <tr style=\"text-align: right;\">\n",
       "      <th></th>\n",
       "      <th>CD_coefficient</th>\n",
       "      <th>probes</th>\n",
       "    </tr>\n",
       "  </thead>\n",
       "  <tbody>\n",
       "    <tr>\n",
       "      <th>0</th>\n",
       "      <td>0.004705</td>\n",
       "      <td>1762437_1</td>\n",
       "    </tr>\n",
       "    <tr>\n",
       "      <th>1</th>\n",
       "      <td>0.002536</td>\n",
       "      <td>1762438_1</td>\n",
       "    </tr>\n",
       "    <tr>\n",
       "      <th>2</th>\n",
       "      <td>0.004283</td>\n",
       "      <td>1762439_1</td>\n",
       "    </tr>\n",
       "    <tr>\n",
       "      <th>3</th>\n",
       "      <td>0.002002</td>\n",
       "      <td>1762440_1</td>\n",
       "    </tr>\n",
       "    <tr>\n",
       "      <th>4</th>\n",
       "      <td>0.002548</td>\n",
       "      <td>1762441_1</td>\n",
       "    </tr>\n",
       "  </tbody>\n",
       "</table>\n",
       "</div>"
      ],
      "text/plain": [
       "   CD_coefficient     probes\n",
       "0        0.004705  1762437_1\n",
       "1        0.002536  1762438_1\n",
       "2        0.004283  1762439_1\n",
       "3        0.002002  1762440_1\n",
       "4        0.002548  1762441_1"
      ]
     },
     "execution_count": 16,
     "metadata": {},
     "output_type": "execute_result"
    }
   ],
   "source": [
    "sample_classes = [1] * len(sig['ctrl_ids']) + [2] * len(sig['pert_ids'])\n",
    "result = geode.chdir(expr_df.values, sample_classes, expr_df.index,\n",
    "                    gamma=.5, sort=False)\n",
    "result = pd.DataFrame(result, columns=['CD_coefficient', 'probes'])\n",
    "result.head()"
   ]
  }
 ],
 "metadata": {
  "kernelspec": {
   "display_name": "Python 2",
   "language": "python",
   "name": "python2"
  },
  "language_info": {
   "codemirror_mode": {
    "name": "ipython",
    "version": 2
   },
   "file_extension": ".py",
   "mimetype": "text/x-python",
   "name": "python",
   "nbconvert_exporter": "python",
   "pygments_lexer": "ipython2",
   "version": "2.7.6"
  }
 },
 "nbformat": 4,
 "nbformat_minor": 0
}
