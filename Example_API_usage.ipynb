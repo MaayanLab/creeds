{
 "cells": [
  {
   "cell_type": "markdown",
   "metadata": {},
   "source": [
    "# A basic walk-through demonstrating the usages of the CREEDS API\n"
   ]
  },
  {
   "cell_type": "code",
   "execution_count": 1,
   "metadata": {
    "collapsed": true
   },
   "outputs": [],
   "source": [
    "## required python packages\n",
    "import numpy as np\n",
    "import pandas as pd\n",
    "import requests"
   ]
  },
  {
   "cell_type": "code",
   "execution_count": 2,
   "metadata": {
    "collapsed": true
   },
   "outputs": [],
   "source": [
    "BASE_URL = 'http://amp.pharm.mssm.edu/CREEDS/'"
   ]
  },
  {
   "cell_type": "markdown",
   "metadata": {},
   "source": [
    "## 1. Search signatures using text"
   ]
  },
  {
   "cell_type": "code",
   "execution_count": 3,
   "metadata": {
    "collapsed": false
   },
   "outputs": [
    {
     "name": "stdout",
     "output_type": "stream",
     "text": [
      "200\n"
     ]
    }
   ],
   "source": [
    "r = requests.get(BASE_URL + 'search', params={'q':'breast cancer'})\n",
    "response = r.json()\n",
    "print r.status_code"
   ]
  },
  {
   "cell_type": "markdown",
   "metadata": {},
   "source": [
    "Convert the json response to pandas DataFrame and have a look at the search result "
   ]
  },
  {
   "cell_type": "code",
   "execution_count": 4,
   "metadata": {
    "collapsed": false
   },
   "outputs": [
    {
     "data": {
      "text/html": [
       "<div style=\"max-height:1000px;max-width:1500px;overflow:auto;\">\n",
       "<table border=\"1\" class=\"dataframe\">\n",
       "  <thead>\n",
       "    <tr style=\"text-align: right;\">\n",
       "      <th></th>\n",
       "      <th>cell_type</th>\n",
       "      <th>ctrl_ids</th>\n",
       "      <th>curator</th>\n",
       "      <th>disease_name</th>\n",
       "      <th>do_id</th>\n",
       "      <th>geo_id</th>\n",
       "      <th>organism</th>\n",
       "      <th>pert_ids</th>\n",
       "      <th>platform</th>\n",
       "      <th>umls_cui</th>\n",
       "    </tr>\n",
       "    <tr>\n",
       "      <th>id</th>\n",
       "      <th></th>\n",
       "      <th></th>\n",
       "      <th></th>\n",
       "      <th></th>\n",
       "      <th></th>\n",
       "      <th></th>\n",
       "      <th></th>\n",
       "      <th></th>\n",
       "      <th></th>\n",
       "      <th></th>\n",
       "    </tr>\n",
       "  </thead>\n",
       "  <tbody>\n",
       "    <tr>\n",
       "      <th>dz:11</th>\n",
       "      <td>Mammary Epithelium</td>\n",
       "      <td>[GSM1932, GSM1933, GSM1935, GSM1949, GSM1950, ...</td>\n",
       "      <td>Joel.Dudley</td>\n",
       "      <td>breast cancer</td>\n",
       "      <td>DOID:1612</td>\n",
       "      <td>GSE53</td>\n",
       "      <td>human</td>\n",
       "      <td>[GSM1928, GSM1929, GSM1930, GSM1931, GSM1934, ...</td>\n",
       "      <td>GPL170</td>\n",
       "      <td>C0006142</td>\n",
       "    </tr>\n",
       "    <tr>\n",
       "      <th>dz:24</th>\n",
       "      <td>Mammary Gland Tissue</td>\n",
       "      <td>[GSM85513, GSM85514, GSM85515, GSM85516, GSM85...</td>\n",
       "      <td>Joel.Dudley</td>\n",
       "      <td>breast cancer</td>\n",
       "      <td>DOID:1612</td>\n",
       "      <td>GSE3744</td>\n",
       "      <td>human</td>\n",
       "      <td>[GSM85473, GSM85474, GSM85475, GSM85476, GSM85...</td>\n",
       "      <td>GPL570</td>\n",
       "      <td>C0006142</td>\n",
       "    </tr>\n",
       "    <tr>\n",
       "      <th>dz:28</th>\n",
       "      <td>Mammary gland</td>\n",
       "      <td>[GSM48242, GSM48244, GSM48245]</td>\n",
       "      <td>Joel.Dudley</td>\n",
       "      <td>breast cancer</td>\n",
       "      <td>DOID:1612</td>\n",
       "      <td>GSE2528</td>\n",
       "      <td>mouse</td>\n",
       "      <td>[GSM48236, GSM48237, GSM48238, GSM48239, GSM48...</td>\n",
       "      <td>GPL81</td>\n",
       "      <td>C0006142</td>\n",
       "    </tr>\n",
       "    <tr>\n",
       "      <th>dz:39</th>\n",
       "      <td>Epithelial Cell</td>\n",
       "      <td>[GSM38895, GSM38896]</td>\n",
       "      <td>Joel.Dudley</td>\n",
       "      <td>breast cancer</td>\n",
       "      <td>DOID:1612</td>\n",
       "      <td>GSE2155</td>\n",
       "      <td>human</td>\n",
       "      <td>[GSM38897, GSM38898, GSM38899, GSM38900, GSM38...</td>\n",
       "      <td>GPL1794</td>\n",
       "      <td>C0006142</td>\n",
       "    </tr>\n",
       "    <tr>\n",
       "      <th>dz:52</th>\n",
       "      <td>Mammary Gland Tissue</td>\n",
       "      <td>[GSM22369, GSM22374, GSM22381, GSM22382, GSM22...</td>\n",
       "      <td>Joel.Dudley</td>\n",
       "      <td>breast cancer</td>\n",
       "      <td>DOID:1612</td>\n",
       "      <td>GSE1378</td>\n",
       "      <td>human</td>\n",
       "      <td>[GSM22365, GSM22366, GSM22367, GSM22368, GSM22...</td>\n",
       "      <td>GPL1223</td>\n",
       "      <td>C0006142</td>\n",
       "    </tr>\n",
       "  </tbody>\n",
       "</table>\n",
       "</div>"
      ],
      "text/plain": [
       "                  cell_type  \\\n",
       "id                            \n",
       "dz:11    Mammary Epithelium   \n",
       "dz:24  Mammary Gland Tissue   \n",
       "dz:28         Mammary gland   \n",
       "dz:39       Epithelial Cell   \n",
       "dz:52  Mammary Gland Tissue   \n",
       "\n",
       "                                                ctrl_ids      curator  \\\n",
       "id                                                                      \n",
       "dz:11  [GSM1932, GSM1933, GSM1935, GSM1949, GSM1950, ...  Joel.Dudley   \n",
       "dz:24  [GSM85513, GSM85514, GSM85515, GSM85516, GSM85...  Joel.Dudley   \n",
       "dz:28                     [GSM48242, GSM48244, GSM48245]  Joel.Dudley   \n",
       "dz:39                               [GSM38895, GSM38896]  Joel.Dudley   \n",
       "dz:52  [GSM22369, GSM22374, GSM22381, GSM22382, GSM22...  Joel.Dudley   \n",
       "\n",
       "        disease_name      do_id   geo_id organism  \\\n",
       "id                                                  \n",
       "dz:11  breast cancer  DOID:1612    GSE53    human   \n",
       "dz:24  breast cancer  DOID:1612  GSE3744    human   \n",
       "dz:28  breast cancer  DOID:1612  GSE2528    mouse   \n",
       "dz:39  breast cancer  DOID:1612  GSE2155    human   \n",
       "dz:52  breast cancer  DOID:1612  GSE1378    human   \n",
       "\n",
       "                                                pert_ids platform  umls_cui  \n",
       "id                                                                           \n",
       "dz:11  [GSM1928, GSM1929, GSM1930, GSM1931, GSM1934, ...   GPL170  C0006142  \n",
       "dz:24  [GSM85473, GSM85474, GSM85475, GSM85476, GSM85...   GPL570  C0006142  \n",
       "dz:28  [GSM48236, GSM48237, GSM48238, GSM48239, GSM48...    GPL81  C0006142  \n",
       "dz:39  [GSM38897, GSM38898, GSM38899, GSM38900, GSM38...  GPL1794  C0006142  \n",
       "dz:52  [GSM22365, GSM22366, GSM22367, GSM22368, GSM22...  GPL1223  C0006142  "
      ]
     },
     "execution_count": 4,
     "metadata": {},
     "output_type": "execute_result"
    }
   ],
   "source": [
    "response_df = pd.DataFrame.from_records(response).set_index('id')\n",
    "response_df.head()"
   ]
  },
  {
   "cell_type": "markdown",
   "metadata": {},
   "source": [
    "## 2. Query the signature database using up/down gene sets to find similar/opposite signatures"
   ]
  },
  {
   "cell_type": "code",
   "execution_count": 5,
   "metadata": {
    "collapsed": true
   },
   "outputs": [],
   "source": [
    "## Get some up and down gene lists \n",
    "up_genes = ['KIAA0907','KDM5A','CDC25A','EGR1','GADD45B','RELB','TERF2IP','SMNDC1','TICAM1','NFKB2','RGS2','NCOA3','ICAM1','TEX10','CNOT4','ARID4B','CLPX','CHIC2','CXCL2','FBXO11','MTF2','CDK2','DNTTIP2','GADD45A','GOLT1B','POLR2K','NFKBIE','GABPB1','ECD','PHKG2','RAD9A','NET1','KIAA0753','EZH2','NRAS','ATP6V0B','CDK7','CCNH','SENP6','TIPARP','FOS','ARPP19','TFAP2A','KDM5B','NPC1','TP53BP2','NUSAP1']\n",
    "dn_genes = ['SCCPDH','KIF20A','FZD7','USP22','PIP4K2B','CRYZ','GNB5','EIF4EBP1','PHGDH','RRAGA','SLC25A46','RPA1','HADH','DAG1','RPIA','P4HA2','MACF1','TMEM97','MPZL1','PSMG1','PLK1','SLC37A4','GLRX','CBR3','PRSS23','NUDCD3','CDC20','KIAA0528','NIPSNAP1','TRAM2','STUB1','DERA','MTHFD2','BLVRA','IARS2','LIPA','PGM1','CNDP2','BNIP3','CTSL1','CDC25B','HSPA8','EPRS','PAX8','SACM1L','HOXA5','TLE1','PYGL','TUBB6','LOXL1']\n",
    "payload = {\n",
    "    'up_genes': up_genes,\n",
    "    'dn_genes': dn_genes,\n",
    "    'direction': 'similar'\n",
    "    }"
   ]
  },
  {
   "cell_type": "code",
   "execution_count": 6,
   "metadata": {
    "collapsed": false
   },
   "outputs": [
    {
     "name": "stdout",
     "output_type": "stream",
     "text": [
      "200\n"
     ]
    }
   ],
   "source": [
    "r = requests.post(BASE_URL + 'search', json=payload)\n",
    "print r.status_code\n",
    "response = r.json()"
   ]
  },
  {
   "cell_type": "code",
   "execution_count": 7,
   "metadata": {
    "collapsed": false
   },
   "outputs": [
    {
     "data": {
      "text/html": [
       "<div style=\"max-height:1000px;max-width:1500px;overflow:auto;\">\n",
       "<table border=\"1\" class=\"dataframe\">\n",
       "  <thead>\n",
       "    <tr style=\"text-align: right;\">\n",
       "      <th></th>\n",
       "      <th>geo_id</th>\n",
       "      <th>name</th>\n",
       "      <th>signed_jaccard</th>\n",
       "    </tr>\n",
       "    <tr>\n",
       "      <th>id</th>\n",
       "      <th></th>\n",
       "      <th></th>\n",
       "      <th></th>\n",
       "    </tr>\n",
       "  </thead>\n",
       "  <tbody>\n",
       "    <tr>\n",
       "      <th>gene:2008</th>\n",
       "      <td>GSE8747</td>\n",
       "      <td>[Met, http://www.ncbi.nlm.nih.gov/gene/17295]</td>\n",
       "      <td>0.00289</td>\n",
       "    </tr>\n",
       "    <tr>\n",
       "      <th>gene:84</th>\n",
       "      <td>GSE10516</td>\n",
       "      <td>[Lmx1b, http://www.ncbi.nlm.nih.gov/gene/16917]</td>\n",
       "      <td>0.00251</td>\n",
       "    </tr>\n",
       "    <tr>\n",
       "      <th>gene:2314</th>\n",
       "      <td>GSE53388</td>\n",
       "      <td>[Arhgap5, http://www.ncbi.nlm.nih.gov/gene/11855]</td>\n",
       "      <td>0.00207</td>\n",
       "    </tr>\n",
       "    <tr>\n",
       "      <th>gene:2916</th>\n",
       "      <td>GSE40377</td>\n",
       "      <td>[Pde10a, http://www.ncbi.nlm.nih.gov/gene/23984]</td>\n",
       "      <td>0.00178</td>\n",
       "    </tr>\n",
       "    <tr>\n",
       "      <th>gene:601</th>\n",
       "      <td>GSE13590</td>\n",
       "      <td>[MIR140, http://www.ncbi.nlm.nih.gov/gene/406932]</td>\n",
       "      <td>0.00162</td>\n",
       "    </tr>\n",
       "  </tbody>\n",
       "</table>\n",
       "</div>"
      ],
      "text/plain": [
       "             geo_id                                               name  \\\n",
       "id                                                                       \n",
       "gene:2008   GSE8747      [Met, http://www.ncbi.nlm.nih.gov/gene/17295]   \n",
       "gene:84    GSE10516    [Lmx1b, http://www.ncbi.nlm.nih.gov/gene/16917]   \n",
       "gene:2314  GSE53388  [Arhgap5, http://www.ncbi.nlm.nih.gov/gene/11855]   \n",
       "gene:2916  GSE40377   [Pde10a, http://www.ncbi.nlm.nih.gov/gene/23984]   \n",
       "gene:601   GSE13590  [MIR140, http://www.ncbi.nlm.nih.gov/gene/406932]   \n",
       "\n",
       "           signed_jaccard  \n",
       "id                         \n",
       "gene:2008         0.00289  \n",
       "gene:84           0.00251  \n",
       "gene:2314         0.00207  \n",
       "gene:2916         0.00178  \n",
       "gene:601          0.00162  "
      ]
     },
     "execution_count": 7,
     "metadata": {},
     "output_type": "execute_result"
    }
   ],
   "source": [
    "response_df = pd.DataFrame.from_records(response).set_index('id')\n",
    "response_df.head()"
   ]
  },
  {
   "cell_type": "markdown",
   "metadata": {},
   "source": [
    "## 3. Retrieve a signature using `id`"
   ]
  },
  {
   "cell_type": "code",
   "execution_count": 8,
   "metadata": {
    "collapsed": true
   },
   "outputs": [],
   "source": [
    "r = requests.get(BASE_URL + 'api', params={'id': response_df.index[0]})\n",
    "sig = r.json()"
   ]
  },
  {
   "cell_type": "code",
   "execution_count": 9,
   "metadata": {
    "collapsed": false
   },
   "outputs": [
    {
     "name": "stdout",
     "output_type": "stream",
     "text": [
      "[u'cell_type', u'pert_ids', u'hs_gene_symbol', u'curator', u'id', u'geo_id', u'platform', u'ctrl_ids', u'up_genes', u'mm_gene_symbol', u'organism', u'down_genes', u'pert_type']\n"
     ]
    }
   ],
   "source": [
    "# sig is a dictionary with the following keys\n",
    "print sig.keys()"
   ]
  },
  {
   "cell_type": "markdown",
   "metadata": {},
   "source": [
    "## 4. Retrieve a gene expression dataset from GEO"
   ]
  },
  {
   "cell_type": "code",
   "execution_count": 10,
   "metadata": {
    "collapsed": false
   },
   "outputs": [
    {
     "name": "stdout",
     "output_type": "stream",
     "text": [
      "GEO id: GSE8747\n",
      "Control GSMs: [u'GSM217200', u'GSM217202', u'GSM217204', u'GSM217206', u'GSM217208']\n",
      "Perturbation GSMs: [u'GSM217210', u'GSM217214', u'GSM217215', u'GSM217217']\n"
     ]
    }
   ],
   "source": [
    "# Look at the meta-data required to retrieve dataset from GEO\n",
    "print 'GEO id: %s' % sig['geo_id']\n",
    "print 'Control GSMs: %s' % sig['ctrl_ids']\n",
    "print 'Perturbation GSMs: %s' % sig['pert_ids']\n"
   ]
  },
  {
   "cell_type": "code",
   "execution_count": null,
   "metadata": {
    "collapsed": false
   },
   "outputs": [],
   "source": []
  },
  {
   "cell_type": "code",
   "execution_count": null,
   "metadata": {
    "collapsed": true
   },
   "outputs": [],
   "source": []
  }
 ],
 "metadata": {
  "kernelspec": {
   "display_name": "Python 2",
   "language": "python",
   "name": "python2"
  },
  "language_info": {
   "codemirror_mode": {
    "name": "ipython",
    "version": 2
   },
   "file_extension": ".py",
   "mimetype": "text/x-python",
   "name": "python",
   "nbconvert_exporter": "python",
   "pygments_lexer": "ipython2",
   "version": "2.7.6"
  }
 },
 "nbformat": 4,
 "nbformat_minor": 0
}
